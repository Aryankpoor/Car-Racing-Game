{
 "cells": [
  {
   "cell_type": "code",
   "execution_count": null,
   "metadata": {},
   "outputs": [],
   "source": [
    "import pandas as pd\n",
    "import matplotlib.pyplot as plt\n",
    "import os\n",
    "from datetime import datetime"
   ]
  },
  {
   "cell_type": "code",
   "execution_count": null,
   "metadata": {},
   "outputs": [],
   "source": [
    "df = pd.read_json('https://api.covid19india.org/v4/timeseries.json')"
   ]
  },
  {
   "cell_type": "code",
   "execution_count": null,
   "metadata": {},
   "outputs": [],
   "source": [
    "\n",
    "#obtaining the first date to the max date, current_date\n",
    "current_date = max(df['AP']['dates']) # obtaining the current date\n",
    "dates = list(df['AP']['dates'])\n",
    "min_date = dates[0]"
   ]
  },
  {
   "cell_type": "code",
   "execution_count": null,
   "metadata": {},
   "outputs": [],
   "source": [
    "df['AP']['dates'][current_date]['total']"
   ]
  },
  {
   "cell_type": "code",
   "execution_count": null,
   "metadata": {},
   "outputs": [],
   "source": [
    "data_selected = 'deceased' #replace confirmed with data you want to get\n",
    "def obtain_data_for_a_date(date):\n",
    "    temp_list = []\n",
    "    for i in df.columns:\n",
    "        try:\n",
    "            # replace confirmed with the data you want to get\n",
    "            temp_list.append(df[i]['dates'][date]['total'][data_selected])\n",
    "        except:\n",
    "            temp_list.append(0)\n",
    "    return temp_list"
   ]
  },
  {
   "cell_type": "code",
   "execution_count": null,
   "metadata": {},
   "outputs": [],
   "source": [
    "# obtaining a dataframe for confirmed results \n",
    "d = {}\n",
    "for j in dates:\n",
    "    d[j] = obtain_data_for_a_date(j)"
   ]
  },
  {
   "cell_type": "code",
   "execution_count": null,
   "metadata": {},
   "outputs": [],
   "source": [
    "\n",
    "df2 = pd.DataFrame.from_dict(d,orient='index',columns = df.columns);"
   ]
  },
  {
   "cell_type": "code",
   "execution_count": null,
   "metadata": {},
   "outputs": [],
   "source": [
    "# testing the dataset \n",
    "s = df2.loc[current_date];\n",
    "\n",
    "fig, ax = plt.subplots(figsize=(10,10), dpi=300)\n",
    "colors = plt.cm.Dark2(range(6))\n",
    "y = s.index\n",
    "width = s.values\n",
    "ax.barh(y=y, width=width, color=colors);\n",
    "\n",
    "def nice_axes(ax):\n",
    "    ax.set_facecolor('.8')\n",
    "    ax.tick_params(labelsize=8, length=0)\n",
    "    ax.grid(True, axis='x', color='white')\n",
    "    ax.set_axisbelow(True)\n",
    "    [spine.set_visible(False) for spine in ax.spines.values()]"
   ]
  },
  {
   "cell_type": "code",
   "execution_count": null,
   "metadata": {},
   "outputs": [],
   "source": [
    "\n",
    "# test run\n",
    "# creating a new dataset called df3 and arranging the index\n",
    "df3 = df2.loc[min_date:current_date]\n",
    "df3 = df3.reset_index()\n",
    "df3.index = df3.index * 5\n",
    "last_idx = df3.index[-1] + 1\n",
    "\n",
    "df_expanded = df3.reindex(range(last_idx))\n",
    "df_expanded['index'] = df_expanded['index'].fillna(method='ffill')\n",
    "df_expanded = df_expanded.set_index('index')\n",
    "\n",
    "df_rank_expanded = df_expanded.rank(axis=1, method='first')\n",
    "df_expanded = df_expanded.interpolate()\n",
    "df_rank_expanded = df_rank_expanded.interpolate()"
   ]
  },
  {
   "cell_type": "code",
   "execution_count": null,
   "metadata": {},
   "outputs": [],
   "source": [
    "def prepare_data(df, steps=5):\n",
    "    df = df3.reset_index()\n",
    "    df.index = df3.index * steps\n",
    "    last_idx = df3.index[-1] + 1\n",
    "    df_expanded = df3.reindex(range(last_idx))\n",
    "    df_expanded['index'] = df_expanded['index'].fillna(method='ffill')\n",
    "    df_expanded = df_expanded.set_index('index')\n",
    "    df_rank_expanded = df_expanded.rank(axis=1, method='first')\n",
    "    df_expanded = df_expanded.interpolate()\n",
    "    df_rank_expanded = df_rank_expanded.interpolate()\n",
    "    return df_expanded, df_rank_expanded\n",
    "\n",
    "df_expanded, df_rank_expanded = prepare_data(df3)\n",
    "df_expanded.head();"
   ]
  },
  {
   "cell_type": "code",
   "execution_count": null,
   "metadata": {},
   "outputs": [],
   "source": [
    "from matplotlib.animation import FuncAnimation\n",
    "\n",
    "def init():\n",
    "    ax.clear()\n",
    "    nice_axes(ax)\n",
    "    ax.set_ylim(.2, 6.8)\n",
    "\n",
    "def update(i):\n",
    "    labels = df_expanded.columns\n",
    "    for bar in ax.containers:\n",
    "        bar.remove()\n",
    "    y = df_rank_expanded.iloc[i]\n",
    "    width = df_expanded.iloc[i]\n",
    "    ax.barh(y=y, width=width, color=colors, tick_label=labels)\n",
    "    date_str = df_expanded.index[i]\n",
    "    # add a proper title in 'remove' data_selected\n",
    "    ax.set_title(f'{data_selected}- {date_str}', fontsize='smaller')\n",
    "    \n",
    "fig = plt.Figure(figsize=(5, 5), dpi=300)\n",
    "ax = fig.add_subplot()\n",
    "anim = FuncAnimation(fig=fig, func=update, init_func=init, frames=len(df_expanded), \n",
    "                     interval=100, repeat=False)"
   ]
  },
  {
   "cell_type": "code",
   "execution_count": null,
   "metadata": {},
   "outputs": [],
   "source": [
    "from IPython.display import HTML\n",
    "html = anim.to_html5_video()\n",
    "HTML(html)"
   ]
  },
  {
   "cell_type": "code",
   "execution_count": null,
   "metadata": {},
   "outputs": [],
   "source": [
    "#anim.save('~/Downloads/covid19.mp4')"
   ]
  }
 ],
 "metadata": {
  "language_info": {
   "name": "python"
  }
 },
 "nbformat": 4,
 "nbformat_minor": 2
}
